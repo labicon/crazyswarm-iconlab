{
 "cells": [
  {
   "cell_type": "code",
   "execution_count": 13,
   "metadata": {},
   "outputs": [],
   "source": [
    "import dpilqr as dec\n",
    "import matplotlib.pyplot as plt\n",
    "import numpy as np\n",
    "import rospy\n",
    "import tf\n",
    "from dpilqr import plot_solve, split_agents\n",
    "from distributed_mpc import *\n",
    "from centralized_mpc import *\n",
    "import pycrazyswarm as crazy\n",
    "import util\n"
   ]
  },
  {
   "cell_type": "code",
   "execution_count": 23,
   "metadata": {},
   "outputs": [],
   "source": [
    "theta_max = np.pi / 3\n",
    "phi_max = np.pi / 3\n",
    "\n",
    "v_max = 5\n",
    "v_min = -5\n",
    "\n",
    "theta_min = -np.pi /3\n",
    "phi_min = -np.pi / 3\n",
    "\n",
    "tau_max = 20\n",
    "tau_min = 0\n",
    "\n",
    "x_min = -5\n",
    "x_max = 5\n",
    "\n",
    "y_min = -5\n",
    "y_max = 5\n",
    "\n",
    "z_min = 0\n",
    "z_max = 4.0\n",
    "\n",
    "a_max = 3.0\n",
    "a_min = -3.0\n",
    "\n",
    "# u_ref_base = np.array([0,0,g])\n",
    "u_ref_base = np.array([0,0,0,0,0,0])\n",
    "\n",
    "# max_input_base = np.array([[theta_max], [phi_max], [tau_max]])\n",
    "# min_input_base = np.array([[theta_min], [phi_min], [tau_min]])\n",
    "max_input_base = np.array([[v_max], [v_max], [v_max], [a_max],[a_max], [a_max]])\n",
    "min_input_base = np.array([[v_min], [v_min], [v_min], [a_min],[a_min], [a_min]])\n",
    "\n",
    "max_state_base = np.array([[x_max], [y_max], [z_max], [v_max],[v_max], [v_max]])\n",
    "min_state_base = np.array([[x_min], [y_min], [z_min], [v_min],[v_min], [v_min]])\n",
    "\n",
    "n_states = 6\n",
    "n_inputs = 6"
   ]
  },
  {
   "cell_type": "code",
   "execution_count": 36,
   "metadata": {},
   "outputs": [],
   "source": [
    "n_agents = 3\n",
    "n_states = 6\n",
    "n_controls = 6\n",
    "n_dims = [3] * n_agents\n",
    "x_dims = [n_states] * n_agents\n",
    "\n",
    "Q = np.eye(n_states*n_agents) * 100\n",
    "R = np.eye(n_inputs*n_agents) * 0.01\n",
    "\n",
    "Qf = 1000.0 * np.eye(Q.shape[0])\n",
    "\n",
    "\n",
    "max_input = np.tile(max_input_base,n_agents)\n",
    "min_input = np.tile(min_input_base,n_agents)\n",
    "max_state = np.tile(max_state_base,n_agents)\n",
    "min_state = np.tile(min_state_base,n_agents)"
   ]
  },
  {
   "cell_type": "code",
   "execution_count": 75,
   "metadata": {},
   "outputs": [
    {
     "data": {
      "text/plain": [
       "(18,)"
      ]
     },
     "execution_count": 75,
     "metadata": {},
     "output_type": "execute_result"
    }
   ],
   "source": [
    "max_input.T.flatten().shape"
   ]
  },
  {
   "cell_type": "code",
   "execution_count": null,
   "metadata": {},
   "outputs": [],
   "source": []
  },
  {
   "cell_type": "code",
   "execution_count": 77,
   "metadata": {},
   "outputs": [],
   "source": [
    "U_try = np.random.rand(18,10)"
   ]
  },
  {
   "cell_type": "code",
   "execution_count": 79,
   "metadata": {},
   "outputs": [
    {
     "name": "stdout",
     "output_type": "stream",
     "text": [
      "0.6066058900429724\n",
      "0.566989075659338\n",
      "0.01737085639837721\n",
      "0.5389921903737451\n",
      "0.6549264708502558\n",
      "0.09625559400981876\n",
      "0.05992490102141934\n",
      "0.1485328557015042\n",
      "0.9615158531521806\n",
      "0.42927817614440955\n",
      "0.9053448182107106\n",
      "0.5188380077989796\n",
      "0.2795687551980238\n",
      "0.5595334916942033\n",
      "0.29757276576846314\n",
      "0.8083221944252473\n",
      "0.7444394532997889\n",
      "0.4392139417323305\n",
      "0.21941431716392423\n",
      "0.5822770992770286\n",
      "0.7192825857561279\n",
      "0.018148986016864432\n",
      "0.1517461548380511\n",
      "0.164096269482487\n",
      "0.9077069242084926\n",
      "0.01519042096760781\n",
      "0.23998691695604502\n",
      "0.4621486861627728\n",
      "0.7457397080094276\n",
      "0.9766337186849481\n",
      "0.4129323850816221\n",
      "0.7176644390566767\n",
      "0.05010976773186815\n",
      "0.13334551463035715\n",
      "0.8246932598295539\n",
      "0.9340735153381398\n",
      "0.5582679286961344\n",
      "0.8703611829197655\n",
      "0.5542364995535471\n",
      "0.24740633259288358\n",
      "0.4455929771124728\n",
      "0.8040997045951809\n",
      "0.0580082823156276\n",
      "0.43035145410073616\n",
      "0.04079850458709533\n",
      "0.6151203246557612\n",
      "0.5808228478894264\n",
      "0.4610477782514353\n",
      "0.20341557140907474\n",
      "0.9514252207774033\n",
      "0.11216831225842827\n",
      "0.8536448722110621\n",
      "0.1344578219821877\n",
      "0.5536878309776868\n",
      "0.7379353233945699\n",
      "0.16868568681302898\n",
      "0.14258254266297476\n",
      "0.038169009759788985\n",
      "0.8134937064171619\n",
      "0.5270362350620305\n",
      "0.5785190949823851\n",
      "0.8181449591369017\n",
      "0.9231096007360018\n",
      "0.406063332505444\n",
      "0.017094242415298666\n",
      "0.34233057094768005\n",
      "0.5561702009821217\n",
      "0.7103631401651558\n",
      "0.09504530527873734\n",
      "0.2930107622210921\n",
      "0.2887002843289753\n",
      "0.9252135356772753\n",
      "0.01673252493970112\n",
      "0.9011743518287139\n",
      "0.9835940575904892\n",
      "0.4073228070097056\n",
      "0.23668799403791485\n",
      "0.6166235071935946\n",
      "0.4743539126135753\n",
      "0.9415282182472907\n",
      "0.033879144456548826\n",
      "0.22558233518839665\n",
      "0.4972236082242071\n",
      "0.16560612495904248\n",
      "0.16213664700923047\n",
      "0.3297465453009605\n",
      "0.3646539972702323\n",
      "0.20668217161947833\n",
      "0.26956332695633856\n",
      "0.41881815503996844\n",
      "0.7353026757232471\n",
      "0.37186646923409006\n",
      "0.2534667203135802\n",
      "0.6594719923861808\n",
      "0.04576160812906216\n",
      "0.273049068963536\n",
      "0.2936081494017989\n",
      "0.8337952666419091\n",
      "0.9184391314271628\n",
      "0.27031591933654253\n",
      "0.984787490475591\n",
      "0.771563820133044\n",
      "0.18845323653204082\n",
      "0.40691509499380996\n",
      "0.048757764768730505\n",
      "0.5586630047064679\n",
      "0.8620484235286925\n",
      "0.9015214647034803\n",
      "0.7167449439430957\n",
      "0.4201074150239682\n",
      "0.18230771093928144\n",
      "0.49783338735213634\n",
      "0.3205027400841598\n",
      "0.01362418773358487\n",
      "0.8207562416127367\n",
      "0.29666483454372583\n",
      "0.9061913405736287\n",
      "0.36376404363648174\n",
      "0.48053401060711787\n",
      "0.3987169444106351\n",
      "0.25783965183539015\n",
      "0.38975417717136596\n",
      "0.7603158385706527\n",
      "0.03117232618592447\n",
      "0.7243846889475414\n",
      "0.23346563411911125\n",
      "0.6011918355634961\n",
      "0.8650959016898389\n",
      "0.6930068411063506\n",
      "0.2269178142184648\n",
      "0.15931269522146874\n",
      "0.34577512257848453\n",
      "0.09749231405231595\n",
      "0.5989235514638419\n",
      "0.4463249140418838\n",
      "0.8882700535539662\n",
      "0.2454760040205033\n",
      "0.8255263414921237\n",
      "0.038680388602539195\n",
      "0.5385860269456686\n",
      "0.30157051246255606\n",
      "0.7399627866991011\n",
      "0.36503887032799853\n",
      "0.5338155818683613\n",
      "0.31932139686523575\n",
      "0.22053548459445527\n",
      "0.4157021401732054\n",
      "0.9190962382785772\n",
      "0.1577506203829745\n",
      "0.9453196586441952\n",
      "0.5374201319990659\n",
      "0.29900974567365424\n",
      "0.8706545029775332\n",
      "0.9300296754487354\n",
      "0.8966664521063731\n",
      "0.2774988170946959\n",
      "0.6622580461273352\n",
      "0.7703263554318805\n",
      "0.2233660027804646\n",
      "0.3255119679954007\n",
      "0.9903697585757877\n",
      "0.054752065330634925\n",
      "0.5571675464387742\n",
      "0.5734094645262182\n",
      "0.9920085237345637\n",
      "0.821284635663976\n",
      "0.6031349926691568\n",
      "0.24775449152758444\n",
      "0.7124022234184914\n",
      "0.23185720725473669\n",
      "0.822802646788665\n",
      "0.2608477733031429\n",
      "0.6545963744341878\n",
      "0.5991600342192247\n",
      "0.48767650422248576\n",
      "0.32832853053769584\n",
      "0.6797112150429784\n",
      "0.6312848825097401\n",
      "0.07034131381064002\n",
      "0.09576463817339809\n"
     ]
    }
   ],
   "source": [
    "for k in range(10): #loop over control intervals\n",
    "    \n",
    "    #Constraints on inputs:\n",
    "    for j in range(max_input.T.flatten().shape[0]):\n",
    "        # print(U[j,k].shape,max_input[j].shape)\n",
    "        # print(j,k)\n",
    "        print(U_try[j,k],)\n"
   ]
  },
  {
   "cell_type": "code",
   "execution_count": 31,
   "metadata": {},
   "outputs": [],
   "source": [
    "X_try = np.random.rand(18,16)"
   ]
  },
  {
   "cell_type": "code",
   "execution_count": 59,
   "metadata": {},
   "outputs": [
    {
     "data": {
      "text/plain": [
       "(18, 16)"
      ]
     },
     "execution_count": 59,
     "metadata": {},
     "output_type": "execute_result"
    }
   ],
   "source": [
    "X_try.shape"
   ]
  },
  {
   "cell_type": "code",
   "execution_count": 71,
   "metadata": {},
   "outputs": [
    {
     "data": {
      "text/plain": [
       "(18,)"
      ]
     },
     "execution_count": 71,
     "metadata": {},
     "output_type": "execute_result"
    }
   ],
   "source": [
    "X_try[:,0].shape"
   ]
  },
  {
   "cell_type": "code",
   "execution_count": 73,
   "metadata": {},
   "outputs": [
    {
     "data": {
      "text/plain": [
       "18"
      ]
     },
     "execution_count": 73,
     "metadata": {},
     "output_type": "execute_result"
    }
   ],
   "source": [
    "max_state.T.flatten().shape[0]"
   ]
  },
  {
   "cell_type": "code",
   "execution_count": 63,
   "metadata": {},
   "outputs": [
    {
     "data": {
      "text/plain": [
       "array([[5., 5., 5.],\n",
       "       [5., 5., 5.],\n",
       "       [4., 4., 4.],\n",
       "       [5., 5., 5.],\n",
       "       [5., 5., 5.],\n",
       "       [5., 5., 5.]])"
      ]
     },
     "execution_count": 63,
     "metadata": {},
     "output_type": "execute_result"
    }
   ],
   "source": [
    "max_state"
   ]
  },
  {
   "cell_type": "code",
   "execution_count": 35,
   "metadata": {},
   "outputs": [
    {
     "data": {
      "text/plain": [
       "(16,)"
      ]
     },
     "execution_count": 35,
     "metadata": {},
     "output_type": "execute_result"
    }
   ],
   "source": [
    "X_try[0].shape"
   ]
  },
  {
   "cell_type": "code",
   "execution_count": null,
   "metadata": {},
   "outputs": [],
   "source": []
  },
  {
   "cell_type": "code",
   "execution_count": 57,
   "metadata": {},
   "outputs": [
    {
     "name": "stdout",
     "output_type": "stream",
     "text": [
      "0 0\n",
      "0 1\n",
      "0 2\n",
      "0 3\n",
      "0 4\n",
      "0 5\n",
      "1 0\n",
      "1 1\n",
      "1 2\n",
      "1 3\n",
      "1 4\n",
      "1 5\n",
      "2 0\n",
      "2 1\n",
      "2 2\n",
      "2 3\n",
      "2 4\n",
      "2 5\n",
      "3 0\n",
      "3 1\n",
      "3 2\n",
      "3 3\n",
      "3 4\n",
      "3 5\n",
      "4 0\n",
      "4 1\n",
      "4 2\n",
      "4 3\n",
      "4 4\n",
      "4 5\n",
      "5 0\n",
      "5 1\n",
      "5 2\n",
      "5 3\n",
      "5 4\n",
      "5 5\n",
      "6 0\n",
      "6 1\n",
      "6 2\n",
      "6 3\n",
      "6 4\n",
      "6 5\n",
      "7 0\n",
      "7 1\n",
      "7 2\n",
      "7 3\n",
      "7 4\n",
      "7 5\n",
      "8 0\n",
      "8 1\n",
      "8 2\n",
      "8 3\n",
      "8 4\n",
      "8 5\n",
      "9 0\n",
      "9 1\n",
      "9 2\n",
      "9 3\n",
      "9 4\n",
      "9 5\n",
      "10 0\n",
      "10 1\n",
      "10 2\n",
      "10 3\n",
      "10 4\n",
      "10 5\n"
     ]
    }
   ],
   "source": [
    "N = 10\n",
    "for k in range(N+1):\n",
    "    # distances = compute_pairwise_distance_Sym(X[:,k], x_dims)\n",
    "\n",
    "        \n",
    "    #constraints on states:\n",
    "    for m in range(max_state.shape[0]):\n",
    "\n",
    "        print(k,m)"
   ]
  },
  {
   "cell_type": "code",
   "execution_count": 55,
   "metadata": {},
   "outputs": [
    {
     "data": {
      "text/plain": [
       "6"
      ]
     },
     "execution_count": 55,
     "metadata": {},
     "output_type": "execute_result"
    }
   ],
   "source": [
    "max_state.shape[0]"
   ]
  },
  {
   "cell_type": "code",
   "execution_count": 47,
   "metadata": {},
   "outputs": [
    {
     "name": "stdout",
     "output_type": "stream",
     "text": [
      "0\n",
      "1\n",
      "2\n",
      "3\n",
      "4\n",
      "5\n",
      "6\n",
      "7\n",
      "8\n",
      "9\n",
      "10\n",
      "11\n",
      "12\n",
      "13\n",
      "14\n",
      "15\n",
      "16\n",
      "17\n"
     ]
    }
   ],
   "source": [
    "for m in range(max_state.flatten().shape[0]):\n",
    "    print(m)"
   ]
  },
  {
   "cell_type": "code",
   "execution_count": 29,
   "metadata": {},
   "outputs": [
    {
     "data": {
      "text/plain": [
       "array([5., 5., 5.])"
      ]
     },
     "execution_count": 29,
     "metadata": {},
     "output_type": "execute_result"
    }
   ],
   "source": [
    "max_state[1]"
   ]
  },
  {
   "cell_type": "code",
   "execution_count": 25,
   "metadata": {},
   "outputs": [],
   "source": [
    "u_ref = np.tile(u_ref_base,n_agents)"
   ]
  },
  {
   "cell_type": "code",
   "execution_count": 14,
   "metadata": {},
   "outputs": [],
   "source": [
    "x0 = np.random.rand(18,1)"
   ]
  },
  {
   "cell_type": "code",
   "execution_count": 21,
   "metadata": {},
   "outputs": [],
   "source": [
    "ids = [i for i in range(3)]"
   ]
  },
  {
   "cell_type": "code",
   "execution_count": 22,
   "metadata": {},
   "outputs": [
    {
     "name": "stdout",
     "output_type": "stream",
     "text": [
      "determining interaction graph with the following pair-wise distance : [[0.666 0.547 0.6  ]]\n"
     ]
    },
    {
     "data": {
      "text/plain": [
       "{0: [0, 1, 2], 1: [0, 1, 2], 2: [0, 1, 2]}"
      ]
     },
     "execution_count": 22,
     "metadata": {},
     "output_type": "execute_result"
    }
   ],
   "source": [
    "util.define_inter_graph_threshold(x0,0.5,[6,6,6],ids)"
   ]
  },
  {
   "cell_type": "code",
   "execution_count": 5,
   "metadata": {},
   "outputs": [],
   "source": [
    "X = np.random.rand(1,18)"
   ]
  },
  {
   "cell_type": "code",
   "execution_count": 6,
   "metadata": {},
   "outputs": [
    {
     "data": {
      "text/plain": [
       "array([[0.329, 0.75 , 0.786, 0.979, 0.793, 0.99 , 0.78 , 0.965, 0.853,\n",
       "        0.732, 0.552, 0.508, 0.534, 0.903, 0.245, 0.229, 0.062, 0.356]])"
      ]
     },
     "execution_count": 6,
     "metadata": {},
     "output_type": "execute_result"
    }
   ],
   "source": [
    "X"
   ]
  },
  {
   "cell_type": "code",
   "execution_count": 7,
   "metadata": {},
   "outputs": [
    {
     "data": {
      "text/plain": [
       "array([[0.329, 0.75 , 0.786, 0.979, 0.793, 0.99 , 0.78 , 0.965, 0.853,\n",
       "        0.732, 0.552, 0.508, 0.534, 0.903, 0.245, 0.229, 0.062, 0.356]])"
      ]
     },
     "execution_count": 7,
     "metadata": {},
     "output_type": "execute_result"
    }
   ],
   "source": [
    "np.tile(X,(1,1))"
   ]
  },
  {
   "cell_type": "code",
   "execution_count": 8,
   "metadata": {},
   "outputs": [],
   "source": [
    "X = np.r_[X,X]"
   ]
  },
  {
   "cell_type": "code",
   "execution_count": 25,
   "metadata": {},
   "outputs": [
    {
     "data": {
      "text/plain": [
       "(1, 18)"
      ]
     },
     "execution_count": 25,
     "metadata": {},
     "output_type": "execute_result"
    }
   ],
   "source": [
    "X.shape"
   ]
  },
  {
   "cell_type": "code",
   "execution_count": 28,
   "metadata": {},
   "outputs": [
    {
     "data": {
      "text/plain": [
       "array([[0.155, 0.01 , 0.617, 0.412, 0.675, 0.282, 0.185, 0.444, 0.766,\n",
       "        0.684, 0.354, 0.715, 0.226, 0.407, 0.972, 0.65 , 0.679, 0.112]])"
      ]
     },
     "execution_count": 28,
     "metadata": {},
     "output_type": "execute_result"
    }
   ],
   "source": [
    "X"
   ]
  },
  {
   "cell_type": "code",
   "execution_count": 26,
   "metadata": {},
   "outputs": [],
   "source": [
    "X_full = np.random.rand(6,18)"
   ]
  },
  {
   "cell_type": "code",
   "execution_count": 27,
   "metadata": {},
   "outputs": [
    {
     "data": {
      "text/plain": [
       "array([[0.577, 0.908, 0.493, 0.072, 0.764, 0.948, 0.502, 0.531, 0.323,\n",
       "        0.198, 0.195, 0.805, 0.877, 0.347, 0.483, 0.097, 0.636, 0.721],\n",
       "       [0.332, 0.323, 0.224, 0.505, 0.649, 0.635, 0.647, 0.346, 0.052,\n",
       "        0.394, 0.911, 0.594, 0.949, 0.857, 0.929, 0.998, 0.336, 0.682],\n",
       "       [0.957, 0.423, 0.355, 0.259, 0.314, 0.381, 0.845, 0.217, 0.739,\n",
       "        0.474, 0.581, 0.265, 0.77 , 0.532, 0.458, 0.54 , 0.365, 0.23 ],\n",
       "       [0.336, 0.864, 0.482, 0.437, 0.951, 0.17 , 0.351, 0.99 , 0.13 ,\n",
       "        0.293, 0.226, 0.956, 0.72 , 0.227, 0.405, 0.872, 0.389, 0.921],\n",
       "       [0.335, 0.923, 0.519, 0.201, 0.927, 0.29 , 0.824, 0.401, 0.474,\n",
       "        0.571, 0.044, 0.817, 0.428, 0.663, 0.006, 0.023, 0.63 , 0.978],\n",
       "       [0.21 , 0.435, 0.974, 0.315, 0.245, 0.223, 0.296, 0.439, 0.199,\n",
       "        0.776, 0.092, 0.629, 0.854, 0.319, 0.748, 0.031, 0.713, 0.228]])"
      ]
     },
     "execution_count": 27,
     "metadata": {},
     "output_type": "execute_result"
    }
   ],
   "source": [
    "X_full"
   ]
  },
  {
   "cell_type": "code",
   "execution_count": 31,
   "metadata": {},
   "outputs": [
    {
     "data": {
      "text/plain": [
       "array([0.21 , 0.435, 0.974, 0.315, 0.245, 0.223, 0.296, 0.439, 0.199,\n",
       "       0.776, 0.092, 0.629, 0.854, 0.319, 0.748, 0.031, 0.713, 0.228])"
      ]
     },
     "execution_count": 31,
     "metadata": {},
     "output_type": "execute_result"
    }
   ],
   "source": [
    "X_full[5]"
   ]
  },
  {
   "cell_type": "code",
   "execution_count": 29,
   "metadata": {},
   "outputs": [],
   "source": [
    "X = np.r_[X, np.tile(X_full[5], (0, 1))]"
   ]
  },
  {
   "cell_type": "code",
   "execution_count": 30,
   "metadata": {},
   "outputs": [
    {
     "data": {
      "text/plain": [
       "array([[0.155, 0.01 , 0.617, 0.412, 0.675, 0.282, 0.185, 0.444, 0.766,\n",
       "        0.684, 0.354, 0.715, 0.226, 0.407, 0.972, 0.65 , 0.679, 0.112]])"
      ]
     },
     "execution_count": 30,
     "metadata": {},
     "output_type": "execute_result"
    }
   ],
   "source": [
    "X"
   ]
  },
  {
   "cell_type": "code",
   "execution_count": 16,
   "metadata": {},
   "outputs": [
    {
     "data": {
      "text/plain": [
       "(2, 18)"
      ]
     },
     "execution_count": 16,
     "metadata": {},
     "output_type": "execute_result"
    }
   ],
   "source": [
    "X.shape"
   ]
  },
  {
   "cell_type": "code",
   "execution_count": 3,
   "metadata": {},
   "outputs": [],
   "source": [
    "start_pos_drone1 = [0.5, 1.5, 1]\n",
    "start_pos_drone2 = [2.5, 1.5, 1]\n",
    "start_pos_drone3 = [1.5, 1.3, 1]\n",
    "\n",
    "goal_pos_drone1 = [2.5, 1.5, 1]\n",
    "goal_pos_drone2 = [0.5, 1.5, 1]\n",
    "goal_pos_drone3 = [1.5, 2.2, 1]\n",
    "\n",
    "start_pos_list = [start_pos_drone1, start_pos_drone2, start_pos_drone3]\n",
    "goal_pos_list = [goal_pos_drone1, goal_pos_drone2 , goal_pos_drone3]"
   ]
  },
  {
   "cell_type": "code",
   "execution_count": 5,
   "metadata": {},
   "outputs": [],
   "source": [
    "n_agents=3"
   ]
  },
  {
   "cell_type": "code",
   "execution_count": 6,
   "metadata": {},
   "outputs": [],
   "source": [
    "u_ref = np.tile(u_ref_base,n_agents)"
   ]
  },
  {
   "cell_type": "code",
   "execution_count": 7,
   "metadata": {},
   "outputs": [
    {
     "data": {
      "text/plain": [
       "(9,)"
      ]
     },
     "execution_count": 7,
     "metadata": {},
     "output_type": "execute_result"
    }
   ],
   "source": [
    "u_ref.shape"
   ]
  },
  {
   "cell_type": "code",
   "execution_count": 8,
   "metadata": {},
   "outputs": [],
   "source": [
    "x = np.hstack([start_pos_list,np.zeros((n_agents,3))]).flatten() "
   ]
  },
  {
   "cell_type": "code",
   "execution_count": 25,
   "metadata": {},
   "outputs": [],
   "source": [
    "x_goal = np.hstack([goal_pos_list,np.zeros((n_agents,3))]).flatten().reshape(-1,1)"
   ]
  },
  {
   "cell_type": "code",
   "execution_count": 26,
   "metadata": {},
   "outputs": [
    {
     "data": {
      "text/plain": [
       "(18,)"
      ]
     },
     "execution_count": 26,
     "metadata": {},
     "output_type": "execute_result"
    }
   ],
   "source": [
    "x.shape"
   ]
  },
  {
   "cell_type": "code",
   "execution_count": 27,
   "metadata": {},
   "outputs": [
    {
     "data": {
      "text/plain": [
       "(18, 1)"
      ]
     },
     "execution_count": 27,
     "metadata": {},
     "output_type": "execute_result"
    }
   ],
   "source": [
    "x_goal.shape"
   ]
  },
  {
   "cell_type": "code",
   "execution_count": 28,
   "metadata": {},
   "outputs": [],
   "source": [
    "xi = x.reshape(-1, 1)"
   ]
  },
  {
   "cell_type": "code",
   "execution_count": 29,
   "metadata": {},
   "outputs": [
    {
     "data": {
      "text/plain": [
       "(18, 1)"
      ]
     },
     "execution_count": 29,
     "metadata": {},
     "output_type": "execute_result"
    }
   ],
   "source": [
    "xi.shape"
   ]
  },
  {
   "cell_type": "code",
   "execution_count": 32,
   "metadata": {},
   "outputs": [
    {
     "data": {
      "text/plain": [
       "False"
      ]
     },
     "execution_count": 32,
     "metadata": {},
     "output_type": "execute_result"
    }
   ],
   "source": [
    "np.all(dec.distance_to_goal(xi,x_goal,n_agents,n_states,3) <= )"
   ]
  },
  {
   "cell_type": "code",
   "execution_count": null,
   "metadata": {},
   "outputs": [],
   "source": []
  }
 ],
 "metadata": {
  "kernelspec": {
   "display_name": "Python 3",
   "language": "python",
   "name": "python3"
  },
  "language_info": {
   "codemirror_mode": {
    "name": "ipython",
    "version": 3
   },
   "file_extension": ".py",
   "mimetype": "text/x-python",
   "name": "python",
   "nbconvert_exporter": "python",
   "pygments_lexer": "ipython3",
   "version": "3.8.10"
  },
  "orig_nbformat": 4,
  "vscode": {
   "interpreter": {
    "hash": "767d51c1340bd893661ea55ea3124f6de3c7a262a8b4abca0554b478b1e2ff90"
   }
  }
 },
 "nbformat": 4,
 "nbformat_minor": 2
}
