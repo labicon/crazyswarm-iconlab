{
 "cells": [
  {
   "cell_type": "code",
   "execution_count": 1,
   "metadata": {},
   "outputs": [],
   "source": [
    "import dpilqr as dec\n",
    "import matplotlib.pyplot as plt\n",
    "import numpy as np\n",
    "import rospy\n",
    "import tf\n",
    "from dpilqr import plot_solve, split_agents\n",
    "from distributed_mpc import *\n",
    "from centralized_mpc import *\n",
    "import pycrazyswarm as crazy\n"
   ]
  },
  {
   "cell_type": "code",
   "execution_count": 24,
   "metadata": {},
   "outputs": [],
   "source": [
    "X = np.random.rand(1,18)"
   ]
  },
  {
   "cell_type": "code",
   "execution_count": 25,
   "metadata": {},
   "outputs": [
    {
     "data": {
      "text/plain": [
       "(1, 18)"
      ]
     },
     "execution_count": 25,
     "metadata": {},
     "output_type": "execute_result"
    }
   ],
   "source": [
    "X.shape"
   ]
  },
  {
   "cell_type": "code",
   "execution_count": 28,
   "metadata": {},
   "outputs": [
    {
     "data": {
      "text/plain": [
       "array([[0.155, 0.01 , 0.617, 0.412, 0.675, 0.282, 0.185, 0.444, 0.766,\n",
       "        0.684, 0.354, 0.715, 0.226, 0.407, 0.972, 0.65 , 0.679, 0.112]])"
      ]
     },
     "execution_count": 28,
     "metadata": {},
     "output_type": "execute_result"
    }
   ],
   "source": [
    "X"
   ]
  },
  {
   "cell_type": "code",
   "execution_count": 26,
   "metadata": {},
   "outputs": [],
   "source": [
    "X_full = np.random.rand(6,18)"
   ]
  },
  {
   "cell_type": "code",
   "execution_count": 27,
   "metadata": {},
   "outputs": [
    {
     "data": {
      "text/plain": [
       "array([[0.577, 0.908, 0.493, 0.072, 0.764, 0.948, 0.502, 0.531, 0.323,\n",
       "        0.198, 0.195, 0.805, 0.877, 0.347, 0.483, 0.097, 0.636, 0.721],\n",
       "       [0.332, 0.323, 0.224, 0.505, 0.649, 0.635, 0.647, 0.346, 0.052,\n",
       "        0.394, 0.911, 0.594, 0.949, 0.857, 0.929, 0.998, 0.336, 0.682],\n",
       "       [0.957, 0.423, 0.355, 0.259, 0.314, 0.381, 0.845, 0.217, 0.739,\n",
       "        0.474, 0.581, 0.265, 0.77 , 0.532, 0.458, 0.54 , 0.365, 0.23 ],\n",
       "       [0.336, 0.864, 0.482, 0.437, 0.951, 0.17 , 0.351, 0.99 , 0.13 ,\n",
       "        0.293, 0.226, 0.956, 0.72 , 0.227, 0.405, 0.872, 0.389, 0.921],\n",
       "       [0.335, 0.923, 0.519, 0.201, 0.927, 0.29 , 0.824, 0.401, 0.474,\n",
       "        0.571, 0.044, 0.817, 0.428, 0.663, 0.006, 0.023, 0.63 , 0.978],\n",
       "       [0.21 , 0.435, 0.974, 0.315, 0.245, 0.223, 0.296, 0.439, 0.199,\n",
       "        0.776, 0.092, 0.629, 0.854, 0.319, 0.748, 0.031, 0.713, 0.228]])"
      ]
     },
     "execution_count": 27,
     "metadata": {},
     "output_type": "execute_result"
    }
   ],
   "source": [
    "X_full"
   ]
  },
  {
   "cell_type": "code",
   "execution_count": 31,
   "metadata": {},
   "outputs": [
    {
     "data": {
      "text/plain": [
       "array([0.21 , 0.435, 0.974, 0.315, 0.245, 0.223, 0.296, 0.439, 0.199,\n",
       "       0.776, 0.092, 0.629, 0.854, 0.319, 0.748, 0.031, 0.713, 0.228])"
      ]
     },
     "execution_count": 31,
     "metadata": {},
     "output_type": "execute_result"
    }
   ],
   "source": [
    "X_full[5]"
   ]
  },
  {
   "cell_type": "code",
   "execution_count": 29,
   "metadata": {},
   "outputs": [],
   "source": [
    "X = np.r_[X, np.tile(X_full[5], (0, 1))]"
   ]
  },
  {
   "cell_type": "code",
   "execution_count": 30,
   "metadata": {},
   "outputs": [
    {
     "data": {
      "text/plain": [
       "array([[0.155, 0.01 , 0.617, 0.412, 0.675, 0.282, 0.185, 0.444, 0.766,\n",
       "        0.684, 0.354, 0.715, 0.226, 0.407, 0.972, 0.65 , 0.679, 0.112]])"
      ]
     },
     "execution_count": 30,
     "metadata": {},
     "output_type": "execute_result"
    }
   ],
   "source": [
    "X"
   ]
  },
  {
   "cell_type": "code",
   "execution_count": 16,
   "metadata": {},
   "outputs": [
    {
     "data": {
      "text/plain": [
       "(2, 18)"
      ]
     },
     "execution_count": 16,
     "metadata": {},
     "output_type": "execute_result"
    }
   ],
   "source": [
    "X.shape"
   ]
  },
  {
   "cell_type": "code",
   "execution_count": 3,
   "metadata": {},
   "outputs": [],
   "source": [
    "start_pos_drone1 = [0.5, 1.5, 1]\n",
    "start_pos_drone2 = [2.5, 1.5, 1]\n",
    "start_pos_drone3 = [1.5, 1.3, 1]\n",
    "\n",
    "goal_pos_drone1 = [2.5, 1.5, 1]\n",
    "goal_pos_drone2 = [0.5, 1.5, 1]\n",
    "goal_pos_drone3 = [1.5, 2.2, 1]\n",
    "\n",
    "start_pos_list = [start_pos_drone1, start_pos_drone2, start_pos_drone3]\n",
    "goal_pos_list = [goal_pos_drone1, goal_pos_drone2 , goal_pos_drone3]"
   ]
  },
  {
   "cell_type": "code",
   "execution_count": 5,
   "metadata": {},
   "outputs": [],
   "source": [
    "n_agents=3"
   ]
  },
  {
   "cell_type": "code",
   "execution_count": 6,
   "metadata": {},
   "outputs": [],
   "source": [
    "u_ref = np.tile(u_ref_base,n_agents)"
   ]
  },
  {
   "cell_type": "code",
   "execution_count": 7,
   "metadata": {},
   "outputs": [
    {
     "data": {
      "text/plain": [
       "(9,)"
      ]
     },
     "execution_count": 7,
     "metadata": {},
     "output_type": "execute_result"
    }
   ],
   "source": [
    "u_ref.shape"
   ]
  },
  {
   "cell_type": "code",
   "execution_count": 8,
   "metadata": {},
   "outputs": [],
   "source": [
    "x = np.hstack([start_pos_list,np.zeros((n_agents,3))]).flatten() "
   ]
  },
  {
   "cell_type": "code",
   "execution_count": 25,
   "metadata": {},
   "outputs": [],
   "source": [
    "x_goal = np.hstack([goal_pos_list,np.zeros((n_agents,3))]).flatten().reshape(-1,1)"
   ]
  },
  {
   "cell_type": "code",
   "execution_count": 26,
   "metadata": {},
   "outputs": [
    {
     "data": {
      "text/plain": [
       "(18,)"
      ]
     },
     "execution_count": 26,
     "metadata": {},
     "output_type": "execute_result"
    }
   ],
   "source": [
    "x.shape"
   ]
  },
  {
   "cell_type": "code",
   "execution_count": 27,
   "metadata": {},
   "outputs": [
    {
     "data": {
      "text/plain": [
       "(18, 1)"
      ]
     },
     "execution_count": 27,
     "metadata": {},
     "output_type": "execute_result"
    }
   ],
   "source": [
    "x_goal.shape"
   ]
  },
  {
   "cell_type": "code",
   "execution_count": 28,
   "metadata": {},
   "outputs": [],
   "source": [
    "xi = x.reshape(-1, 1)"
   ]
  },
  {
   "cell_type": "code",
   "execution_count": 29,
   "metadata": {},
   "outputs": [
    {
     "data": {
      "text/plain": [
       "(18, 1)"
      ]
     },
     "execution_count": 29,
     "metadata": {},
     "output_type": "execute_result"
    }
   ],
   "source": [
    "xi.shape"
   ]
  },
  {
   "cell_type": "code",
   "execution_count": 32,
   "metadata": {},
   "outputs": [
    {
     "data": {
      "text/plain": [
       "False"
      ]
     },
     "execution_count": 32,
     "metadata": {},
     "output_type": "execute_result"
    }
   ],
   "source": [
    "np.all(dec.distance_to_goal(xi,x_goal,n_agents,n_states,3) <= )"
   ]
  },
  {
   "cell_type": "code",
   "execution_count": null,
   "metadata": {},
   "outputs": [],
   "source": []
  }
 ],
 "metadata": {
  "kernelspec": {
   "display_name": "Python 3",
   "language": "python",
   "name": "python3"
  },
  "language_info": {
   "codemirror_mode": {
    "name": "ipython",
    "version": 3
   },
   "file_extension": ".py",
   "mimetype": "text/x-python",
   "name": "python",
   "nbconvert_exporter": "python",
   "pygments_lexer": "ipython3",
   "version": "3.8.10"
  },
  "orig_nbformat": 4,
  "vscode": {
   "interpreter": {
    "hash": "767d51c1340bd893661ea55ea3124f6de3c7a262a8b4abca0554b478b1e2ff90"
   }
  }
 },
 "nbformat": 4,
 "nbformat_minor": 2
}
