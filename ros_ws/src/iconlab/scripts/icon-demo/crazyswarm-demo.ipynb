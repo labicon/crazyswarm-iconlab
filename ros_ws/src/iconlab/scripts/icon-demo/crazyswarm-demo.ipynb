{
 "cells": [
  {
   "cell_type": "markdown",
   "id": "c7abda1e-ecee-42fa-b3ed-430156e3fbcd",
   "metadata": {},
   "source": [
    "# crazyswarm-demo\n",
    "Prototype code for the crazyswarm demo for the AERO department."
   ]
  },
  {
   "cell_type": "code",
   "execution_count": 1,
   "id": "76ef8111-dfda-4da5-bebf-137221b7aa6d",
   "metadata": {},
   "outputs": [],
   "source": [
    "from functools import reduce\n",
    "\n",
    "import matplotlib.pyplot as plt\n",
    "from matplotlib.animation import FuncAnimation\n",
    "import numpy as np\n",
    "from scipy.optimize import linear_sum_assignment"
   ]
  },
  {
   "cell_type": "code",
   "execution_count": 2,
   "id": "d8cef6a6-efba-441b-a0ac-9c6bb3fd2350",
   "metadata": {},
   "outputs": [],
   "source": [
    "%matplotlib ipympl"
   ]
  },
  {
   "cell_type": "code",
   "execution_count": 3,
   "id": "4defc79d-e37c-41ad-82cd-9df74bac98f3",
   "metadata": {},
   "outputs": [
    {
     "data": {
      "application/vnd.jupyter.widget-view+json": {
       "model_id": "5a35237b172a400a833c172e0a262254",
       "version_major": 2,
       "version_minor": 0
      },
      "text/plain": [
       "Canvas(toolbar=Toolbar(toolitems=[('Home', 'Reset original view', 'home', 'home'), ('Back', 'Back to previous …"
      ]
     },
     "metadata": {},
     "output_type": "display_data"
    }
   ],
   "source": [
    "f3 = plt.figure()\n",
    "ax3 = f3.add_subplot(projection='3d')"
   ]
  },
  {
   "cell_type": "code",
   "execution_count": 4,
   "id": "e73e2cb6-31f8-4593-901e-59624b164063",
   "metadata": {},
   "outputs": [],
   "source": [
    "n_crazyflies = 9\n",
    "n_dim = 3"
   ]
  },
  {
   "cell_type": "markdown",
   "id": "e608a34a",
   "metadata": {},
   "source": [
    "### define base waypoints"
   ]
  },
  {
   "cell_type": "code",
   "execution_count": 5,
   "id": "e3aaa4b0-f41d-4cdb-bd8f-1bd55c1cc901",
   "metadata": {},
   "outputs": [],
   "source": [
    "theta = np.arange(0, 2*np.pi, 2*np.pi/n_crazyflies)\n",
    "theta_c = np.linspace(np.pi/2, 3*np.pi/2, n_crazyflies)\n",
    "W = 3\n",
    "H = 4\n",
    "\n",
    "formations = {\n",
    "    'start': np.vstack([\n",
    "        np.zeros(n_crazyflies),\n",
    "        np.linspace(-W, W, n_crazyflies),\n",
    "        np.zeros(n_crazyflies)\n",
    "    ]),\n",
    "    'I': np.vstack([\n",
    "        [-W,  W, -W, W, *[0] * (n_crazyflies - 4)],\n",
    "        np.zeros(n_crazyflies),\n",
    "        [-H, -H,  H, H, *np.linspace(-H, H, n_crazyflies-4).tolist()]\n",
    "    ]),\n",
    "    'C': np.vstack([\n",
    "        W * np.cos(theta_c).round(3) + 1.67,\n",
    "        np.zeros(n_crazyflies),\n",
    "        H * np.sin(theta_c).round(3)\n",
    "    ]),\n",
    "    'O': np.vstack([\n",
    "        W * np.cos(theta).round(3),\n",
    "        np.zeros(n_crazyflies),\n",
    "        H * np.sin(theta).round(3)\n",
    "    ]),\n",
    "    'N': np.vstack([\n",
    "        [-W, -W, W, W, *np.linspace(-W, W, n_crazyflies-4).tolist()],\n",
    "        np.zeros(n_crazyflies),\n",
    "        [-H, 0, 0, H, *np.linspace(H, -H, n_crazyflies-4).tolist()]\n",
    "    ])\n",
    "}\n",
    "\n",
    "# Raise the Z's to some height above the ground.\n",
    "Z_BASE = 1\n",
    "lowest_z = reduce(lambda m, form: form[2].min(), formations.values())\n",
    "for formation in formations.values():\n",
    "    formation[2] += Z_BASE - lowest_z"
   ]
  },
  {
   "cell_type": "code",
   "execution_count": 13,
   "id": "aa4dfa20-169c-4255-99f0-44958222748a",
   "metadata": {},
   "outputs": [],
   "source": [
    "def plot_formo(k):\n",
    "    \"\"\"Render the given formation on the axes\"\"\"\n",
    "    ax3.scatter(formations[k][0], formations[k][1], formations[k][2])\n",
    "\n",
    "ax3.cla()\n",
    "\n",
    "plot_formo('start')\n",
    "# plot_formo('I')\n",
    "# plot_formo('C')\n",
    "# plot_formo('O')\n",
    "# plot_formo('N')"
   ]
  },
  {
   "cell_type": "markdown",
   "id": "c1fdd341",
   "metadata": {},
   "source": [
    "### assign drones to each waypoint"
   ]
  },
  {
   "cell_type": "code",
   "execution_count": 14,
   "id": "d5e9680e-916e-4748-9c5f-1027adbc5fa8",
   "metadata": {},
   "outputs": [],
   "source": [
    "order = ['start', 'I', 'C', 'O', 'N']\n",
    "base_waypoints = np.zeros((len(order), n_dim, n_crazyflies))\n",
    "base_waypoints[0] = formations[order[0]]\n",
    "\n",
    "# Compute base waypoints via linear sum assignment to minimize overlaps.\n",
    "for i in range(len(order)-1):\n",
    "    # Find the best association to the next formation to minimize the sum of squared distances.\n",
    "    distances = np.linalg.norm(\n",
    "        np.moveaxis(base_waypoints[i, ..., np.newaxis], 0, 2) \n",
    "      - np.swapaxes(formations[order[i+1]][..., np.newaxis], 0, 2), \n",
    "    axis=2)\n",
    "    start_ind, end_ind = linear_sum_assignment(distances, maximize=False)\n",
    "\n",
    "    base_waypoints[i+1, :, start_ind] = formations[order[i+1]][:, end_ind].T"
   ]
  },
  {
   "cell_type": "code",
   "execution_count": 15,
   "id": "3d63f655-68f2-40fa-9c9e-5422a3054a00",
   "metadata": {},
   "outputs": [],
   "source": [
    "ax3.cla()\n",
    "\n",
    "cs = plt.cm.tab20.colors[::2]\n",
    "for i_agent in range(n_crazyflies):\n",
    "    ax3.scatter(\n",
    "        base_waypoints[:, 0, i_agent], \n",
    "        base_waypoints[:, 1, i_agent], \n",
    "        base_waypoints[:, 2, i_agent], \n",
    "        color=cs[i_agent])"
   ]
  },
  {
   "cell_type": "markdown",
   "id": "b9add58d",
   "metadata": {},
   "source": [
    "### add waypoints between waypoints to allow for more defined transitions"
   ]
  },
  {
   "cell_type": "code",
   "execution_count": 16,
   "id": "d6ab355d-698f-4473-b0ff-c3adb1ce0028",
   "metadata": {},
   "outputs": [],
   "source": [
    "trans_len = 10\n",
    "hold_len = 5\n",
    "wp_len = trans_len + hold_len\n",
    "waypoints = np.zeros((len(order) * wp_len, n_dim, n_crazyflies))\n",
    "waypoints[-wp_len:] = base_waypoints[-1]\n",
    "\n",
    "for i_wp in range(len(order)-1):\n",
    "    for i_dim in range(n_dim):\n",
    "        for i_agent in range(n_crazyflies):\n",
    "            # print(slice(i_wp*wp_len, i_wp*wp_len + trans_len),\n",
    "                  # slice(i_wp*wp_len + trans_len, (i_wp+1)*wp_len))\n",
    "            waypoints[i_wp*wp_len : i_wp*wp_len + trans_len, i_dim, i_agent] = np.linspace(\n",
    "                base_waypoints[i_wp, i_dim, i_agent], \n",
    "                base_waypoints[i_wp+1, i_dim, i_agent],\n",
    "                trans_len)\n",
    "            waypoints[i_wp*wp_len + trans_len : (i_wp+1)*wp_len, i_dim, i_agent] \\\n",
    "                = base_waypoints[i_wp+1, i_dim, i_agent]\n",
    "\n",
    "waypoints = waypoints.swapaxes(1, 2)"
   ]
  },
  {
   "cell_type": "markdown",
   "id": "d7f88de4",
   "metadata": {},
   "source": [
    "### write to gif"
   ]
  },
  {
   "cell_type": "code",
   "execution_count": 20,
   "id": "563d14ee-0bde-4563-aed4-4b912fa15172",
   "metadata": {},
   "outputs": [],
   "source": [
    "def animate(i):\n",
    "    \"\"\"Write all waypoints into an animation\"\"\"\n",
    "    \n",
    "    ax3.cla()\n",
    "    plt.title(\"ICON Demo\")\n",
    "    cs = plt.cm.tab20.colors[::2]\n",
    "    for i_agent in range(n_crazyflies):\n",
    "        ax3.scatter(\n",
    "            waypoints[i, i_agent, 0], \n",
    "            waypoints[i, i_agent, 1], \n",
    "            waypoints[i, i_agent, 2], \n",
    "            color=cs[i_agent])\n",
    "\n",
    "    ax3.grid(True)\n",
    "    ax3.axis([-H+1, H+1, -H+1, H+1])\n",
    "    ax3.set_zlim(0, 2*H + Z_BASE)\n",
    "    ax3.view_init(elev=20.0, azim=i*360/N)"
   ]
  },
  {
   "cell_type": "code",
   "execution_count": 21,
   "id": "4b9e50d7-ad23-4155-90cd-f3ceea856625",
   "metadata": {},
   "outputs": [
    {
     "name": "stderr",
     "output_type": "stream",
     "text": [
      "MovieWriter ffmpeg unavailable; using Pillow instead.\n"
     ]
    }
   ],
   "source": [
    "N = waypoints.shape[0]\n",
    "anim = FuncAnimation(f3, animate, frames=N)\n",
    "anim.save('animation.gif', fps=N//10)"
   ]
  }
 ],
 "metadata": {
  "kernelspec": {
   "display_name": "Python 3 (ipykernel)",
   "language": "python",
   "name": "python3"
  },
  "language_info": {
   "codemirror_mode": {
    "name": "ipython",
    "version": 3
   },
   "file_extension": ".py",
   "mimetype": "text/x-python",
   "name": "python",
   "nbconvert_exporter": "python",
   "pygments_lexer": "ipython3",
   "version": "3.9.6"
  }
 },
 "nbformat": 4,
 "nbformat_minor": 5
}
